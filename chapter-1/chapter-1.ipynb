{
 "cells": [
  {
   "cell_type": "code",
   "execution_count": 1,
   "metadata": {},
   "outputs": [
    {
     "name": "stdout",
     "output_type": "stream",
     "text": [
      "desserts\n"
     ]
    }
   ],
   "source": [
    "#00. Reversed string\n",
    "#Obtain the string that arranges letters of the string “stressed” in reverse order (tail to head).\n",
    "text =\"stressed\";\n",
    "text_reversed = text[::-1]\n",
    "print(text_reversed)"
   ]
  },
  {
   "cell_type": "code",
   "execution_count": 2,
   "metadata": {},
   "outputs": [
    {
     "name": "stdout",
     "output_type": "stream",
     "text": [
      "shoe\n"
     ]
    }
   ],
   "source": [
    "#01. “schooled”\n",
    "#Obtain the string that concatenates the 1st, 3rd, 5th, and 7th letters in the string “schooled”.\n",
    "text1 = \"schooled\"\n",
    "list1= text1[::2]\n",
    "print(list1)"
   ]
  },
  {
   "cell_type": "code",
   "execution_count": 3,
   "metadata": {},
   "outputs": [
    {
     "name": "stdout",
     "output_type": "stream",
     "text": [
      "schooled\n"
     ]
    }
   ],
   "source": [
    "# 02. “shoe” + “cold” = “schooled”\n",
    "# Obtain the string “schooled” by concatenating the letters in “shoe” and “cold” one after the other from head to tail.\n",
    "text21=\"shoe\"\n",
    "text22=\"cold\"\n",
    "text2= \"\".join(s1 + s2 for s1, s2 in zip(text21, text22))\n",
    "print(text2)"
   ]
  },
  {
   "cell_type": "code",
   "execution_count": 4,
   "metadata": {},
   "outputs": [
    {
     "name": "stdout",
     "output_type": "stream",
     "text": [
      "[3, 1, 4, 1, 6, 9, 2, 7, 5, 3, 5, 8, 9, 7, 9]\n"
     ]
    }
   ],
   "source": [
    "# 03. Pi\n",
    "# Split the sentence “Now I need a drink, alcoholic of course, after the heavy lectures involving quantum mechanics”.\n",
    "# into words, and create a list whose element presents the number of alphabetical letters in the corresponding word.\n",
    "text3 = \"Now I need a drink, alcoholic of course, after the heavy lectures involving quantum mechanics\"\n",
    "text3_number = [len(word) for word in text3.split()]\n",
    "print(text3_number)"
   ]
  },
  {
   "cell_type": "code",
   "execution_count": 5,
   "metadata": {},
   "outputs": [
    {
     "name": "stdout",
     "output_type": "stream",
     "text": [
      "{0: 'Hi', 1: 'H', 2: 'Li', 3: 'Be', 4: 'Bo', 5: 'C', 6: 'N', 7: 'O', 8: 'F', 9: 'N', 10: 'Na', 11: 'Mi', 12: 'Al', 13: 'Si', 14: 'Pe', 15: 'S', 16: 'C', 17: 'Ar', 18: 'Ki', 19: 'C'}\n"
     ]
    }
   ],
   "source": [
    "# 04. Atomic symbols\n",
    "# Split the sentence “Hi He Lied Because Boron Could Not Oxidize Fluorine. New Nations Might Also Sign Peace Security Clause. Arthur King Can”.\n",
    "# into words, and extract the first letter from the 1st, 5th, 6th, 7th, 8th, 9th, 15th, 16th, 19th words and the first two letters from the other words.\n",
    "# Create an associative array (dictionary object or mapping object) that maps from the extracted string to the position (offset in the sentence) of the corresponding word.\n",
    "text4 = \"Hi He Lied Because Boron Could Not Oxidize Fluorine. New Nations Might Also Sign Peace Security Clause. Arthur King Can\"\n",
    "extract = {}\n",
    "for i, item in enumerate(text4.split()):\n",
    "  if i in  [1, 5, 6, 7, 8, 9, 15, 16, 19]:\n",
    "    extract[i] = item[:1]\n",
    "  else:\n",
    "    extract[i] = item[:2]\n",
    "print(extract)"
   ]
  },
  {
   "cell_type": "code",
   "execution_count": 6,
   "metadata": {},
   "outputs": [
    {
     "name": "stdout",
     "output_type": "stream",
     "text": [
      "Word: [['I', 'am'], ['am', 'an'], ['an', 'NLPer']]\n",
      "Letter: ['I ', ' a', 'am', 'm ', ' a', 'an', 'n ', ' N', 'NL', 'LP', 'Pe', 'er']\n"
     ]
    }
   ],
   "source": [
    "# 05. n-gram\n",
    "# Implement a function that obtains n-grams from a given sequence object (e.g., string and list).\n",
    "# Use this function to obtain word bi-grams and letter bi-grams from the sentence “I am an NLPer”\n",
    "\n",
    "def n_grams(sequence, n):\n",
    "  return [sequence[i:i+n] for i in range(len(sequence) - n + 1)]\n",
    "\n",
    "text5 = \"I am an NLPer\"\n",
    "\n",
    "# Word bi-grams\n",
    "word_bigrams = n_grams(text5.split(), 2)\n",
    "print(\"Word:\", word_bigrams)\n",
    "\n",
    "# Letter bi-grams\n",
    "letter_bigrams = n_grams(text5, 2)\n",
    "print(\"Letter:\", letter_bigrams)"
   ]
  },
  {
   "cell_type": "code",
   "execution_count": 7,
   "metadata": {},
   "outputs": [
    {
     "name": "stdout",
     "output_type": "stream",
     "text": [
      "union: {'ra', 'ap', 'ad', 'is', 'ag', 'di', 'pa', 'ar', 'gr', 'se', 'ph'}\n",
      "intersection: {'ra', 'ap', 'pa', 'ar'}\n",
      "difference: {'di', 'ad', 'is', 'se'}\n"
     ]
    }
   ],
   "source": [
    "# 06. Set\n",
    "# Let the sets of letter bi-grams from the words “paraparaparadise” and “paragraph” $X$ and $Y$, respectively.\n",
    "# Obtain the union, intersection, difference of the two sets. In addition, check whether the bigram “se” is included in the sets $X$ and $Y$\n",
    "def n_grams(sequence, n):\n",
    "  return set([sequence[i:i+n] for i in range(len(sequence) - n + 1)])\n",
    "\n",
    "text61 = \"paraparaparadise\"\n",
    "text62 = \"paragraph\"\n",
    "X = n_grams(text61, 2)\n",
    "Y = n_grams(text62, 2)\n",
    "\n",
    "union = X.union(Y)  # Union\n",
    "intersection = X.intersection(Y)  # Intersection\n",
    "differents = X.difference(Y)  # Difference\n",
    "\n",
    "print('union:', union)\n",
    "print('intersection:', intersection)\n",
    "print('difference:', differents)"
   ]
  },
  {
   "cell_type": "code",
   "execution_count": 8,
   "metadata": {},
   "outputs": [
    {
     "data": {
      "text/plain": [
       "'temperature is 22.4 at 12'"
      ]
     },
     "execution_count": 8,
     "metadata": {},
     "output_type": "execute_result"
    }
   ],
   "source": [
    "# 07. Template-based sentence generation\n",
    "# Implement a function that receives arguments, x, y, and z and returns a string “{y} is {z} at {x}”, where “{x}”, “{y}”, and “{z}” denote the values of x, y, and z, respectively.\n",
    "# In addition, confirm the return string by giving the arguments x=12, y=\"temperature\", and z=22.4.\n",
    "def sen_gen(x, y, z):\n",
    "  return f\"{y} is {z} at {x}\"\n",
    "\n",
    "sen_gen(12, \"temperature\", 22.4)"
   ]
  },
  {
   "cell_type": "code",
   "execution_count": 9,
   "metadata": {},
   "outputs": [
    {
     "data": {
      "text/plain": [
       "'\\x87srh»rh»z»xivzgv»gvcg'"
      ]
     },
     "execution_count": 9,
     "metadata": {},
     "output_type": "execute_result"
    }
   ],
   "source": [
    "# 08. cipher text\n",
    "# Implement a function cipher that converts a given string with the specification:\n",
    "\n",
    "# Every alphabetical lowercase letter c is converted to a letter whose ASCII code is (219 - [the ASCII code of c])\n",
    "# Keep other letters unchanged\n",
    "\n",
    "# Use this function to cipher and decipher an English message.\n",
    "text2= \"\".join(s1 + s2 for s1, s2 in zip(text21, text22))\n",
    "\n",
    "def chiperC(text):\n",
    "  return \"\".join(chr(219 - ord(char)) for char in text)\n",
    "\n",
    "text08 = 'This is a create text'\n",
    "chiperC(text08)"
   ]
  },
  {
   "cell_type": "code",
   "execution_count": 10,
   "metadata": {},
   "outputs": [
    {
     "data": {
      "text/plain": [
       "'I cu’nodlt beivele that I cloud aucllaty unsntraedd what I was riednag : the penhnoamel pwoer of the hmaun mind'"
      ]
     },
     "execution_count": 10,
     "metadata": {},
     "output_type": "execute_result"
    }
   ],
   "source": [
    "# 09. Typoglycemia\n",
    "# Write a program with the specification:\n",
    "\n",
    "# Receive a word sequence separated by space\n",
    "# For each word in the sequence:\n",
    "  # If the word is no longer than four letters, keep the word unchanged\n",
    "  # Otherwise,\n",
    "    # Keep the first and last letters unchanged\n",
    "    # Shuffle other letters in other positions (in the middle of the word)\n",
    "# Observe the result by giving a sentence, e.g., “I couldn’t believe that I could actually understand what I was reading : the phenomenal power of the human mind “.\n",
    "\n",
    "import random\n",
    "\n",
    "def typoglycemia(sen):\n",
    "  arraySen = sen.split()\n",
    "  for index, word in enumerate(arraySen):\n",
    "    if(len(word)>4):\n",
    "      middle_letters = list(word[1:-1])\n",
    "      random.shuffle(middle_letters)\n",
    "\n",
    "      shuffled_word = word[0] + ''.join(middle_letters) + word[-1]\n",
    "      arraySen[index]= shuffled_word\n",
    "  return \" \".join(word for word in arraySen)\n",
    "\n",
    "sen = \"I couldn’t believe that I could actually understand what I was reading : the phenomenal power of the human mind \"\n",
    "typoglycemia(sen)"
   ]
  }
 ],
 "metadata": {
  "kernelspec": {
   "display_name": "Python 3",
   "language": "python",
   "name": "python3"
  },
  "language_info": {
   "codemirror_mode": {
    "name": "ipython",
    "version": 3
   },
   "file_extension": ".py",
   "mimetype": "text/x-python",
   "name": "python",
   "nbconvert_exporter": "python",
   "pygments_lexer": "ipython3",
   "version": "3.11.0"
  }
 },
 "nbformat": 4,
 "nbformat_minor": 2
}
